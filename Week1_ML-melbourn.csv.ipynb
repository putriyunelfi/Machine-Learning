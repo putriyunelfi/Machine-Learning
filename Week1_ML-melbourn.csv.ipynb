{
  "nbformat": 4,
  "nbformat_minor": 0,
  "metadata": {
    "colab": {
      "name": "Week1-ML.ipynb",
      "provenance": [],
      "collapsed_sections": [],
      "authorship_tag": "ABX9TyMU0C6EBv0+RHYh9BhCxsXG",
      "include_colab_link": true
    },
    "kernelspec": {
      "name": "python3",
      "display_name": "Python 3"
    },
    "language_info": {
      "name": "python"
    },
    "accelerator": "GPU"
  },
  "cells": [
    {
      "cell_type": "markdown",
      "metadata": {
        "id": "view-in-github",
        "colab_type": "text"
      },
      "source": [
        "<a href=\"https://colab.research.google.com/github/putriyunelfi/Machine-Learning/blob/main/Week1_ML-melbourn.csv.ipynb\" target=\"_parent\"><img src=\"https://colab.research.google.com/assets/colab-badge.svg\" alt=\"Open In Colab\"/></a>"
      ]
    },
    {
      "cell_type": "code",
      "metadata": {
        "colab": {
          "base_uri": "https://localhost:8080/"
        },
        "id": "ifFIY2rnV9vb",
        "outputId": "0b001ec0-6fd8-45f3-e8dd-31a92554b06c"
      },
      "source": [
        "!pip install git+https://github.com/ML-Challenge/learntools.git"
      ],
      "execution_count": 27,
      "outputs": [
        {
          "output_type": "stream",
          "name": "stdout",
          "text": [
            "Collecting git+https://github.com/ML-Challenge/learntools.git\n",
            "  Cloning https://github.com/ML-Challenge/learntools.git to /tmp/pip-req-build-y5x69h_8\n",
            "  Running command git clone -q https://github.com/ML-Challenge/learntools.git /tmp/pip-req-build-y5x69h_8\n"
          ]
        }
      ]
    },
    {
      "cell_type": "code",
      "metadata": {
        "id": "NUt73PeAFVfz"
      },
      "source": [
        "import pandas as pd\n",
        "from datetime import datetime\n",
        "import numpy as np\n",
        "from sklearn.tree import DecisionTreeRegressor\n",
        "from sklearn.model_selection import train_test_split as train\n",
        "from sklearn.metrics import mean_absolute_error as mae\n",
        "import matplotlib.pyplot as plt\n",
        "from matplotlib.pyplot import plot as plot\n",
        "from sklearn.ensemble import RandomForestRegressor as rfr"
      ],
      "execution_count": 41,
      "outputs": []
    },
    {
      "cell_type": "markdown",
      "metadata": {
        "id": "F-XxcMjEewsR"
      },
      "source": [
        "Basic Data Exploration"
      ]
    },
    {
      "cell_type": "code",
      "metadata": {
        "colab": {
          "base_uri": "https://localhost:8080/"
        },
        "id": "SM43v9secgVX",
        "outputId": "8a6157c1-f5f4-4a78-cb3b-731947a7f06b"
      },
      "source": [
        "# melakukan pengecekan\n",
        "from learntools.core import binder\n",
        "binder.bind(globals())\n",
        "from learntools.machine_learning.ex2 import *\n",
        "print(\"Setup Complete\")"
      ],
      "execution_count": 42,
      "outputs": [
        {
          "output_type": "stream",
          "name": "stderr",
          "text": [
            "WARNING:root:Ignoring repeated attempt to bind to globals\n"
          ]
        },
        {
          "output_type": "stream",
          "name": "stdout",
          "text": [
            "Setup Complete\n"
          ]
        }
      ]
    },
    {
      "cell_type": "code",
      "metadata": {
        "id": "tvgTj1C2a1wZ"
      },
      "source": [
        "# membaca path file\n",
        "iowa_file_path = '/content/melb_data.csv'\n",
        "\n",
        "# membaca file dalam home_data\n",
        "home_data = pd.read_csv(iowa_file_path)"
      ],
      "execution_count": 43,
      "outputs": []
    },
    {
      "cell_type": "code",
      "metadata": {
        "id": "QEH-8X6LcA6E",
        "colab": {
          "base_uri": "https://localhost:8080/"
        },
        "outputId": "ef93db22-da6b-4670-d38a-b86dcc92e445"
      },
      "source": [
        "# melihat home_data\n",
        "print(home_data)"
      ],
      "execution_count": 44,
      "outputs": [
        {
          "output_type": "stream",
          "name": "stdout",
          "text": [
            "              Suburb  ... Propertycount\n",
            "0         Abbotsford  ...        4019.0\n",
            "1         Abbotsford  ...        4019.0\n",
            "2         Abbotsford  ...        4019.0\n",
            "3         Abbotsford  ...        4019.0\n",
            "4         Abbotsford  ...        4019.0\n",
            "...              ...  ...           ...\n",
            "13575  Wheelers Hill  ...        7392.0\n",
            "13576   Williamstown  ...        6380.0\n",
            "13577   Williamstown  ...        6380.0\n",
            "13578   Williamstown  ...        6380.0\n",
            "13579     Yarraville  ...        6543.0\n",
            "\n",
            "[13580 rows x 21 columns]\n"
          ]
        }
      ]
    },
    {
      "cell_type": "code",
      "metadata": {
        "id": "2cqtWqKKcz_p",
        "colab": {
          "base_uri": "https://localhost:8080/",
          "height": 46
        },
        "outputId": "2cef9753-dd25-4831-9390-5a465ad8b32f"
      },
      "source": [
        "avg_lot_size = 10517\n",
        "newest_home_age = 11\n",
        "\n",
        "# Checks your answers\n",
        "step_2.check()"
      ],
      "execution_count": 45,
      "outputs": [
        {
          "output_type": "display_data",
          "data": {
            "application/javascript": [
              "parent.postMessage({\"jupyterEvent\": \"custom.exercise_interaction\", \"data\": {\"outcomeType\": 1, \"valueTowardsCompletion\": 0.5, \"interactionType\": 1, \"questionType\": 1, \"questionId\": \"2_HomeDescription\", \"learnToolsVersion\": \"0.3.4\", \"failureMessage\": \"\", \"exceptionClass\": \"\", \"trace\": \"\"}}, \"*\")"
            ],
            "text/plain": [
              "<IPython.core.display.Javascript object>"
            ]
          },
          "metadata": {}
        },
        {
          "output_type": "display_data",
          "data": {
            "text/markdown": "<span style=\"color:#33cc33\">Correct</span>",
            "text/plain": [
              "Correct"
            ]
          },
          "metadata": {}
        }
      ]
    },
    {
      "cell_type": "markdown",
      "metadata": {
        "id": "D1Ao1mzPc3Hi"
      },
      "source": [
        "Your First Machine Learning Model"
      ]
    },
    {
      "cell_type": "code",
      "metadata": {
        "id": "Aj76X8oDdAqy",
        "colab": {
          "base_uri": "https://localhost:8080/"
        },
        "outputId": "78ebed0c-2bff-4ba5-d192-d5531b208675"
      },
      "source": [
        "# menampilkan kolom dataset\n",
        "home_data.columns"
      ],
      "execution_count": 46,
      "outputs": [
        {
          "output_type": "execute_result",
          "data": {
            "text/plain": [
              "Index(['Suburb', 'Address', 'Rooms', 'Type', 'Price', 'Method', 'SellerG',\n",
              "       'Date', 'Distance', 'Postcode', 'Bedroom2', 'Bathroom', 'Car',\n",
              "       'Landsize', 'BuildingArea', 'YearBuilt', 'CouncilArea', 'Lattitude',\n",
              "       'Longtitude', 'Regionname', 'Propertycount'],\n",
              "      dtype='object')"
            ]
          },
          "metadata": {},
          "execution_count": 46
        }
      ]
    },
    {
      "cell_type": "code",
      "metadata": {
        "id": "eBho1t8gdEVv"
      },
      "source": [
        "y = home_data.Propertycount"
      ],
      "execution_count": 47,
      "outputs": []
    },
    {
      "cell_type": "code",
      "metadata": {
        "id": "JmzMJSYRdHU-",
        "colab": {
          "base_uri": "https://localhost:8080/",
          "height": 46
        },
        "outputId": "97ef30b8-c345-4483-fea2-41889ae7df8b"
      },
      "source": [
        "# membuat list kolom features_name\n",
        "feature_names = ['Rooms', 'Bedroom2', 'Landsize', 'Bathroom', 'Longtitude', 'Lattitude']\n",
        "X = home_data[feature_names]\n",
        "\n",
        "# Check your answer\n",
        "step_2.check()"
      ],
      "execution_count": 65,
      "outputs": [
        {
          "output_type": "display_data",
          "data": {
            "application/javascript": [
              "parent.postMessage({\"jupyterEvent\": \"custom.exercise_interaction\", \"data\": {\"outcomeType\": 1, \"valueTowardsCompletion\": 0.5, \"interactionType\": 1, \"questionType\": 1, \"questionId\": \"2_HomeDescription\", \"learnToolsVersion\": \"0.3.4\", \"failureMessage\": \"\", \"exceptionClass\": \"\", \"trace\": \"\"}}, \"*\")"
            ],
            "text/plain": [
              "<IPython.core.display.Javascript object>"
            ]
          },
          "metadata": {}
        },
        {
          "output_type": "display_data",
          "data": {
            "text/markdown": "<span style=\"color:#33cc33\">Correct</span>",
            "text/plain": [
              "Correct"
            ]
          },
          "metadata": {}
        }
      ]
    },
    {
      "cell_type": "code",
      "metadata": {
        "id": "fgkpMdCndLkF",
        "colab": {
          "base_uri": "https://localhost:8080/",
          "height": 204
        },
        "outputId": "66cbd35b-6203-45db-f8ec-abf4cf89b1c9"
      },
      "source": [
        "# menampilkan isi data kolom\n",
        "X=home_data[feature_names]\n",
        "X.head()"
      ],
      "execution_count": 66,
      "outputs": [
        {
          "output_type": "execute_result",
          "data": {
            "text/html": [
              "<div>\n",
              "<style scoped>\n",
              "    .dataframe tbody tr th:only-of-type {\n",
              "        vertical-align: middle;\n",
              "    }\n",
              "\n",
              "    .dataframe tbody tr th {\n",
              "        vertical-align: top;\n",
              "    }\n",
              "\n",
              "    .dataframe thead th {\n",
              "        text-align: right;\n",
              "    }\n",
              "</style>\n",
              "<table border=\"1\" class=\"dataframe\">\n",
              "  <thead>\n",
              "    <tr style=\"text-align: right;\">\n",
              "      <th></th>\n",
              "      <th>Rooms</th>\n",
              "      <th>Bedroom2</th>\n",
              "      <th>Landsize</th>\n",
              "      <th>Bathroom</th>\n",
              "      <th>Longtitude</th>\n",
              "      <th>Lattitude</th>\n",
              "    </tr>\n",
              "  </thead>\n",
              "  <tbody>\n",
              "    <tr>\n",
              "      <th>0</th>\n",
              "      <td>2</td>\n",
              "      <td>2.0</td>\n",
              "      <td>202.0</td>\n",
              "      <td>1.0</td>\n",
              "      <td>144.9984</td>\n",
              "      <td>-37.7996</td>\n",
              "    </tr>\n",
              "    <tr>\n",
              "      <th>1</th>\n",
              "      <td>2</td>\n",
              "      <td>2.0</td>\n",
              "      <td>156.0</td>\n",
              "      <td>1.0</td>\n",
              "      <td>144.9934</td>\n",
              "      <td>-37.8079</td>\n",
              "    </tr>\n",
              "    <tr>\n",
              "      <th>2</th>\n",
              "      <td>3</td>\n",
              "      <td>3.0</td>\n",
              "      <td>134.0</td>\n",
              "      <td>2.0</td>\n",
              "      <td>144.9944</td>\n",
              "      <td>-37.8093</td>\n",
              "    </tr>\n",
              "    <tr>\n",
              "      <th>3</th>\n",
              "      <td>3</td>\n",
              "      <td>3.0</td>\n",
              "      <td>94.0</td>\n",
              "      <td>2.0</td>\n",
              "      <td>144.9969</td>\n",
              "      <td>-37.7969</td>\n",
              "    </tr>\n",
              "    <tr>\n",
              "      <th>4</th>\n",
              "      <td>4</td>\n",
              "      <td>3.0</td>\n",
              "      <td>120.0</td>\n",
              "      <td>1.0</td>\n",
              "      <td>144.9941</td>\n",
              "      <td>-37.8072</td>\n",
              "    </tr>\n",
              "  </tbody>\n",
              "</table>\n",
              "</div>"
            ],
            "text/plain": [
              "   Rooms  Bedroom2  Landsize  Bathroom  Longtitude  Lattitude\n",
              "0      2       2.0     202.0       1.0    144.9984   -37.7996\n",
              "1      2       2.0     156.0       1.0    144.9934   -37.8079\n",
              "2      3       3.0     134.0       2.0    144.9944   -37.8093\n",
              "3      3       3.0      94.0       2.0    144.9969   -37.7969\n",
              "4      4       3.0     120.0       1.0    144.9941   -37.8072"
            ]
          },
          "metadata": {},
          "execution_count": 66
        }
      ]
    },
    {
      "cell_type": "code",
      "metadata": {
        "id": "FbhhIOWCdPPp",
        "colab": {
          "base_uri": "https://localhost:8080/"
        },
        "outputId": "717c409d-f5bc-48af-e515-c0be9f99e651"
      },
      "source": [
        "iowa_model = DecisionTreeRegressor(random_state=1)\n",
        "iowa_model.fit(X, y)"
      ],
      "execution_count": 69,
      "outputs": [
        {
          "output_type": "execute_result",
          "data": {
            "text/plain": [
              "DecisionTreeRegressor(ccp_alpha=0.0, criterion='mse', max_depth=None,\n",
              "                      max_features=None, max_leaf_nodes=None,\n",
              "                      min_impurity_decrease=0.0, min_impurity_split=None,\n",
              "                      min_samples_leaf=1, min_samples_split=2,\n",
              "                      min_weight_fraction_leaf=0.0, presort='deprecated',\n",
              "                      random_state=1, splitter='best')"
            ]
          },
          "metadata": {},
          "execution_count": 69
        }
      ]
    },
    {
      "cell_type": "code",
      "metadata": {
        "id": "MGFuuCdUdXpj",
        "colab": {
          "base_uri": "https://localhost:8080/"
        },
        "outputId": "d7017a21-fdca-4d82-f9f7-821e6b9c88a9"
      },
      "source": [
        "predictions = iowa_model.predict(X)\n",
        "print(predictions)"
      ],
      "execution_count": 71,
      "outputs": [
        {
          "output_type": "stream",
          "name": "stdout",
          "text": [
            "[4019. 4019. 4019. ... 6380. 6380. 6543.]\n"
          ]
        }
      ]
    },
    {
      "cell_type": "markdown",
      "metadata": {
        "id": "5z27aun0dYee"
      },
      "source": [
        "Model Validation"
      ]
    },
    {
      "cell_type": "code",
      "metadata": {
        "id": "5au-yg0YddOr",
        "colab": {
          "base_uri": "https://localhost:8080/"
        },
        "outputId": "74bce01d-1a7c-4bb9-9f06-0b7c6a447fe1"
      },
      "source": [
        "iowa_file_path = '/content/melb_data.csv'\n",
        "\n",
        "home_data = pd.read_csv(iowa_file_path)\n",
        "y = home_data.Propertycount\n",
        "feature_columns = ['Rooms', 'Bedroom2', 'Landsize', 'Bathroom', 'Longtitude', 'Lattitude']\n",
        "X = home_data[feature_columns]\n",
        "\n",
        "iowa_model = DecisionTreeRegressor()\n",
        "iowa_model.fit(X, y)\n",
        "\n",
        "print(\"prediksi sampel pertama:\", iowa_model.predict(X.head()))\n",
        "print(\"nilai target aktual:\", y.head().tolist())"
      ],
      "execution_count": 73,
      "outputs": [
        {
          "output_type": "stream",
          "name": "stdout",
          "text": [
            "prediksi sampel pertama: [4019. 4019. 4019. 4019. 4019.]\n",
            "nilai target aktual: [4019.0, 4019.0, 4019.0, 4019.0, 4019.0]\n"
          ]
        }
      ]
    },
    {
      "cell_type": "code",
      "metadata": {
        "id": "5DxsQutSdlUU"
      },
      "source": [
        "train_X, val_X, train_y, val_y = train_test_split(X, y, random_state=1)"
      ],
      "execution_count": 75,
      "outputs": []
    },
    {
      "cell_type": "code",
      "metadata": {
        "id": "A9preFTMdpTz",
        "colab": {
          "base_uri": "https://localhost:8080/",
          "height": 46
        },
        "outputId": "171e3d09-d86f-4c8d-883e-ef1c36148fa6"
      },
      "source": [
        "iowa_model = DecisionTreeRegressor(random_state=1)\n",
        "iowa_model.fit(train_X, train_y)\n",
        "\n",
        "step_2.check()"
      ],
      "execution_count": 76,
      "outputs": [
        {
          "output_type": "display_data",
          "data": {
            "application/javascript": [
              "parent.postMessage({\"jupyterEvent\": \"custom.exercise_interaction\", \"data\": {\"outcomeType\": 1, \"valueTowardsCompletion\": 0.5, \"interactionType\": 1, \"questionType\": 1, \"questionId\": \"2_HomeDescription\", \"learnToolsVersion\": \"0.3.4\", \"failureMessage\": \"\", \"exceptionClass\": \"\", \"trace\": \"\"}}, \"*\")"
            ],
            "text/plain": [
              "<IPython.core.display.Javascript object>"
            ]
          },
          "metadata": {}
        },
        {
          "output_type": "display_data",
          "data": {
            "text/markdown": "<span style=\"color:#33cc33\">Correct</span>",
            "text/plain": [
              "Correct"
            ]
          },
          "metadata": {}
        }
      ]
    },
    {
      "cell_type": "code",
      "metadata": {
        "id": "qONDM8ycdxOl",
        "colab": {
          "base_uri": "https://localhost:8080/"
        },
        "outputId": "52a49230-9b21-4e1f-eea4-ffef75615084"
      },
      "source": [
        "# prediksi observasi\n",
        "val_predictions = iowa_model.predict(val_X)\n",
        "print(iowa_model.predict(val_X))\n",
        "print(mean_absolute_error(val_y, val_predictions))"
      ],
      "execution_count": 79,
      "outputs": [
        {
          "output_type": "stream",
          "name": "stdout",
          "text": [
            "[ 6567. 17496.  7809. ...  6232.  4480.  5070.]\n",
            "314.16877761413843\n"
          ]
        }
      ]
    },
    {
      "cell_type": "code",
      "metadata": {
        "id": "FtgLoVtXd1ei"
      },
      "source": [
        "val_mae = mean_absolute_error(val_y, val_predictions)"
      ],
      "execution_count": 81,
      "outputs": []
    },
    {
      "cell_type": "markdown",
      "metadata": {
        "id": "KEtYHKeud-Kl"
      },
      "source": [
        "Underfitting and Overfitting"
      ]
    },
    {
      "cell_type": "code",
      "metadata": {
        "id": "eOqFCTg2d-9O",
        "colab": {
          "base_uri": "https://localhost:8080/"
        },
        "outputId": "aaa2e307-b9a0-4551-fc8e-95737903f1b5"
      },
      "source": [
        "iowa_file_path = '/content/melb_data.csv'\n",
        "\n",
        "home_data = pd.read_csv(iowa_file_path)\n",
        "y = home_data.Propertycount\n",
        "# Create X\n",
        "features = ['Rooms', 'Bedroom2', 'Landsize', 'Bathroom', 'Longtitude', 'Lattitude']\n",
        "X = home_data[features]\n",
        "\n",
        "train_X, val_X, train_y, val_y = train_test_split(X, y, random_state=1)\n",
        "\n",
        "iowa_model = DecisionTreeRegressor(random_state=1)\n",
        "iowa_model.fit(train_X, train_y)\n",
        "\n",
        "val_predictions = iowa_model.predict(val_X)\n",
        "val_mae = mean_absolute_error(val_predictions, val_y)\n",
        "print(\"Validation MAE: {:,.0f}\".format(val_mae))"
      ],
      "execution_count": 87,
      "outputs": [
        {
          "output_type": "stream",
          "name": "stdout",
          "text": [
            "Validation MAE: 314\n"
          ]
        }
      ]
    },
    {
      "cell_type": "code",
      "metadata": {
        "id": "daghTagdeD5v"
      },
      "source": [
        "def get_mae(max_leaf_nodes, train_X, val_X, train_y, val_y):\n",
        "    model = DecisionTreeRegressor(max_leaf_nodes=max_leaf_nodes, random_state=0)\n",
        "    model.fit(train_X, train_y)\n",
        "    preds_val = model.predict(val_X)\n",
        "    mae = mean_absolute_error(val_y, preds_val)\n",
        "    return(mae)"
      ],
      "execution_count": 88,
      "outputs": []
    },
    {
      "cell_type": "code",
      "metadata": {
        "id": "t4AMzTvueK3H"
      },
      "source": [
        "candidate_max_leaf_nodes = [5, 25, 50, 100, 250, 500]\n",
        "scores = {leaf_size: get_mae(leaf_size, train_X, val_X, train_y, val_y) for leaf_size in candidate_max_leaf_nodes}\n",
        "best_tree_size = min(scores, key=scores.get)"
      ],
      "execution_count": 90,
      "outputs": []
    },
    {
      "cell_type": "code",
      "metadata": {
        "id": "Qc0qpMP9eLbJ",
        "colab": {
          "base_uri": "https://localhost:8080/"
        },
        "outputId": "fde67bb2-ee29-4690-96f8-874c7dae7654"
      },
      "source": [
        "final_model = DecisionTreeRegressor(max_leaf_nodes=best_tree_size, random_state=1)\n",
        "final_model.fit(X, y)"
      ],
      "execution_count": 92,
      "outputs": [
        {
          "output_type": "execute_result",
          "data": {
            "text/plain": [
              "DecisionTreeRegressor(ccp_alpha=0.0, criterion='mse', max_depth=None,\n",
              "                      max_features=None, max_leaf_nodes=500,\n",
              "                      min_impurity_decrease=0.0, min_impurity_split=None,\n",
              "                      min_samples_leaf=1, min_samples_split=2,\n",
              "                      min_weight_fraction_leaf=0.0, presort='deprecated',\n",
              "                      random_state=1, splitter='best')"
            ]
          },
          "metadata": {},
          "execution_count": 92
        }
      ]
    },
    {
      "cell_type": "markdown",
      "metadata": {
        "id": "JT6adWx7eU3K"
      },
      "source": [
        "Random Forests"
      ]
    },
    {
      "cell_type": "code",
      "metadata": {
        "id": "R55iCOHteVhr",
        "colab": {
          "base_uri": "https://localhost:8080/"
        },
        "outputId": "539b2813-5f21-4a47-b236-def407f4596a"
      },
      "source": [
        "iowa_file_path = '/content/melb_data.csv'\n",
        "\n",
        "home_data = pd.read_csv(iowa_file_path)\n",
        "y = home_data.Propertycount\n",
        "features = ['Rooms', 'Bedroom2', 'Landsize', 'Bathroom', 'Longtitude', 'Lattitude']\n",
        "X = home_data[features]\n",
        "\n",
        "train_X, val_X, train_y, val_y = train_test_split(X, y, random_state=1)\n",
        "\n",
        "iowa_model = DecisionTreeRegressor(random_state=1)\n",
        "iowa_model.fit(train_X, train_y)\n",
        "\n",
        "val_predictions = iowa_model.predict(val_X)\n",
        "val_mae = mean_absolute_error(val_predictions, val_y)\n",
        "print(\"Validation MAE when not specifying max_leaf_nodes: {:,.0f}\".format(val_mae))\n",
        "\n",
        "iowa_model = DecisionTreeRegressor(max_leaf_nodes=100, random_state=1)\n",
        "iowa_model.fit(train_X, train_y)\n",
        "val_predictions = iowa_model.predict(val_X)\n",
        "val_mae = mean_absolute_error(val_predictions, val_y)\n",
        "print(\"Validation MAE for best value of max_leaf_nodes: {:,.0f}\".format(val_mae))"
      ],
      "execution_count": 96,
      "outputs": [
        {
          "output_type": "stream",
          "name": "stdout",
          "text": [
            "Validation MAE when not specifying max_leaf_nodes: 314\n",
            "Validation MAE for best value of max_leaf_nodes: 1,188\n"
          ]
        }
      ]
    },
    {
      "cell_type": "code",
      "metadata": {
        "id": "aR_grdlNebZr",
        "colab": {
          "base_uri": "https://localhost:8080/"
        },
        "outputId": "dc8e7ebd-f445-42b1-e5b1-ea16660584e9"
      },
      "source": [
        "rf_model = RandomForestRegressor()\n",
        "rf_model.fit(train_X, train_y)\n",
        "\n",
        "rf_val_predictions = rf_model.predict(val_X)\n",
        "rf_val_mae = mean_absolute_error(rf_val_predictions, val_y)\n",
        "\n",
        "print(\"Validation MAE for Random Forest Model: {}\".format(rf_val_mae))"
      ],
      "execution_count": 97,
      "outputs": [
        {
          "output_type": "stream",
          "name": "stdout",
          "text": [
            "Validation MAE for Random Forest Model: 452.8068600883652\n"
          ]
        }
      ]
    }
  ]
}